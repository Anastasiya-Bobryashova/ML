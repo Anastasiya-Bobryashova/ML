{
 "cells": [
  {
   "cell_type": "markdown",
   "id": "7e1abfb5",
   "metadata": {},
   "source": [
    "Задача №1.\n",
    "\n",
    "Написать код, который вычисляет сумму всех чисел от 1 до 1000000002 включительно, которые нацело делятся на 3 и не заканчиваются на 4 и 7."
   ]
  },
  {
   "cell_type": "code",
   "execution_count": 1,
   "id": "800bf2a3",
   "metadata": {},
   "outputs": [
    {
     "name": "stdout",
     "output_type": "stream",
     "text": [
      "133333334466666672\n"
     ]
    }
   ],
   "source": [
    "amount = 0\n",
    "for number in range(0, 1000000003, 3):\n",
    "    if number %10 != 4 and  number %10 != 7:\n",
    "        amount += number\n",
    "print(amount)"
   ]
  },
  {
   "cell_type": "markdown",
   "id": "fc690dae",
   "metadata": {},
   "source": [
    "Задача №2.\n",
    "\n",
    "На вход поступает файл из 3-х тысяч строк. В формате: \"арифметическая операция\"    \"целое число #1\"    \"целое число #2\".\n",
    "<br>\n",
    "Нужно подготовить файл из 1 строки. Строка содержит набор из 3-х тысяч чисел, разделенных запятой. Каждое число - результат операции. "
   ]
  },
  {
   "cell_type": "code",
   "execution_count": 2,
   "id": "8fb80e65",
   "metadata": {},
   "outputs": [
    {
     "name": "stderr",
     "output_type": "stream",
     "text": [
      "C:\\Users\\bobry\\AppData\\Local\\Temp/ipykernel_15480/1143185464.py:3: ParserWarning: Falling back to the 'python' engine because the 'c' engine does not support regex separators (separators > 1 char and different from '\\s+' are interpreted as regex); you can avoid this warning by specifying engine='python'.\n",
      "  input_file = pd.read_csv('D:\\Курс ML\\ДЗ_1\\Задача_2//input_file.txt', header = None, sep ='    ')\n"
     ]
    }
   ],
   "source": [
    "import pandas as pd\n",
    "\n",
    "input_file = pd.read_csv('D:\\Курс ML\\ДЗ_1\\Задача_2//input_file.txt', header = None, sep ='    ') \n",
    "\n",
    "input_file.rename(columns = {0: 'sign', 1: 'number_1', 2: 'number_2'}, inplace = True)\n",
    "input_file = input_file.astype({'number_1': int, 'number_2': int})  \n",
    "\n",
    "def operation(sign, num_1, num_2):\n",
    "    if sign == '+':\n",
    "        result = num_1 + num_2\n",
    "    elif sign == '-':\n",
    "        result = num_1 - num_2\n",
    "    elif sign == '*':\n",
    "        result = num_1 * num_2\n",
    "    elif sign == '//':\n",
    "        result = num_1 // num_2\n",
    "    elif sign == '%':\n",
    "        result = num_1 % num_2\n",
    "    elif sign == '**':\n",
    "        result = num_1 ** num_2\n",
    "    return result\n",
    "\n",
    "input_file['result'] = input_file.apply(lambda x: operation(x['sign'], x['number_1'],  x['number_2']), axis=1)\n",
    "input_file = input_file.astype({'result':str})\n",
    "result_string =','.join(input_file['result'])\n",
    "\n",
    "ResultFile_1 = open('D:\\Курс ML\\ДЗ_1\\Задача_2//ResultFile_1.txt', 'w+')\n",
    "ResultFile_1.write(result_string)\n",
    "ResultFile_1.close()"
   ]
  },
  {
   "cell_type": "markdown",
   "id": "1e6e63d1",
   "metadata": {},
   "source": [
    "Задача №3.\n",
    "\n",
    "На вход поступает два текстовых файла из 3-х тысяч строк каждый.\n",
    "<br>\n",
    "Первый файл содержит строки текста.\n",
    "<br>\n",
    "Второй файл содержит строки из двух целых неотрицательных чисел. (Первое число в строке всегда меньше или равно второму. Числа всегда меньше длины соответствующей строки первого файла.)\n",
    " \n",
    "Подготовить выходной файл, который состоит из подстрок 1-го входного файла.\n",
    "Подстроки разделены пробелами.\n",
    "<br>\n",
    "Какие брать подстроки - написано во втором файле."
   ]
  },
  {
   "cell_type": "code",
   "execution_count": 3,
   "id": "5a1ab53c",
   "metadata": {},
   "outputs": [],
   "source": [
    "import pandas as pd\n",
    "\n",
    "input_1 = pd.read_csv('D:\\Курс ML\\ДЗ_1\\Задача_3//import_file_2_1.txt', header = None) \n",
    "input_2 = pd.read_csv('D:\\Курс ML\\ДЗ_1\\Задача_3//import_file_2_2.txt', header = None) \n",
    "\n",
    "input_1.rename(columns = {0: 'string'}, inplace = True)\n",
    "input_2.rename(columns = {0: 'required_symbols'}, inplace = True)\n",
    "\n",
    "input_2 = input_2['required_symbols'].str.split(' ',expand=True)\n",
    "input_2.rename(columns = {0: 'from_this_symbol', 1: 'to_this_symbol'}, inplace = True)\n",
    "input_2 = input_2.astype({'from_this_symbol': int, 'to_this_symbol': int})  \n",
    "\n",
    "full_table = input_1.join(input_2)\n",
    "\n",
    "def slicing(string, from_this_symbol, to_this_symbol):\n",
    "    der = string[from_this_symbol:to_this_symbol+1]\n",
    "    return der\n",
    "\n",
    "full_table['result'] = full_table.apply(lambda x: slicing(x['string'], x['from_this_symbol'],  x['to_this_symbol']), axis=1)\n",
    "result_string =' '.join(full_table['result'])\n",
    "\n",
    "ResultFile_2 = open('D:\\Курс ML\\ДЗ_1\\Задача_3//ResultFile_2.txt', 'w+')\n",
    "ResultFile_2.write(result_string)\n",
    "ResultFile_2.close()"
   ]
  },
  {
   "cell_type": "markdown",
   "id": "ed8caabe",
   "metadata": {},
   "source": [
    "Задача №4.\n",
    "\n",
    "На вход поступает строка, в которой хранится набор химических символов (He, O, H, Mg, Fe, ...). Без пробелов. ('NOTiFICaTiON').\n",
    "<br>\n",
    "Нужно расшифровать химические символы в названия химических элементов."
   ]
  },
  {
   "cell_type": "code",
   "execution_count": 4,
   "id": "21d9c96b",
   "metadata": {},
   "outputs": [
    {
     "name": "stderr",
     "output_type": "stream",
     "text": [
      "C:\\Users\\bobry\\AppData\\Local\\Temp/ipykernel_15480/3720416086.py:10: FutureWarning: Using short name for 'orient' is deprecated. Only the options: ('dict', list, 'series', 'split', 'records', 'index') will be used in a future version. Use one of the above to silence this warning.\n",
      "  dict_periodic_table = periodic_table.set_index('index').T.to_dict('str')\n"
     ]
    }
   ],
   "source": [
    "import pandas as pd\n",
    "import re\n",
    "\n",
    "periodic_table = pd.read_json('D:\\Курс ML\\ДЗ_1\\Задача_4//periodic_table.json',  orient = 'index').reset_index()\n",
    "input_file = pd.read_csv('D:\\Курс ML\\ДЗ_1\\Задача_4//import_file_3.txt', header = None) \n",
    "\n",
    "input_string =''.join(input_file[0])\n",
    "list_of_input_string = re.sub(r'([A-Z])', r' \\1', input_string).split()\n",
    "\n",
    "dict_periodic_table = periodic_table.set_index('index').T.to_dict('str')\n",
    "\n",
    "def decryption_of_elements (list_designations, dictionary_of_chemical_elements):\n",
    "    result_string = ''\n",
    "    for designation in list_designations:\n",
    "        for chemical_elements in dictionary_of_chemical_elements:\n",
    "            if designation == chemical_elements:\n",
    "                result_string += dictionary_of_chemical_elements[chemical_elements]\n",
    "    return result_string\n",
    "\n",
    "res = decryption_of_elements(list_of_input_string, dict_periodic_table)\n",
    "result_string =' '.join(res)\n",
    "\n",
    "ResultFile_3 = open('D:\\Курс ML\\ДЗ_1\\Задача_4//ResultFile_3.txt', 'w+', encoding = 'utf-8')\n",
    "ResultFile_3.write(result_string)\n",
    "ResultFile_3.close()"
   ]
  }
 ],
 "metadata": {
  "kernelspec": {
   "display_name": "Python 3 (ipykernel)",
   "language": "python",
   "name": "python3"
  },
  "language_info": {
   "codemirror_mode": {
    "name": "ipython",
    "version": 3
   },
   "file_extension": ".py",
   "mimetype": "text/x-python",
   "name": "python",
   "nbconvert_exporter": "python",
   "pygments_lexer": "ipython3",
   "version": "3.8.12"
  }
 },
 "nbformat": 4,
 "nbformat_minor": 5
}
