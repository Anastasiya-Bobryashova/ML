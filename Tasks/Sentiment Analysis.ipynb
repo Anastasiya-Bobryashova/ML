{
 "cells": [
  {
   "cell_type": "code",
   "execution_count": 1,
   "id": "d596484c",
   "metadata": {},
   "outputs": [],
   "source": [
    "from sklearn.model_selection import KFold, train_test_split, cross_val_score\n",
    "from sklearn.feature_extraction.text import TfidfVectorizer\n",
    "from sklearn.linear_model import LogisticRegression\n",
    "from sklearn.preprocessing import LabelEncoder\n",
    "from imblearn.over_sampling import SMOTE\n",
    "from sklearn.metrics import accuracy_score\n",
    "from nltk.tokenize import word_tokenize\n",
    "from nltk.stem import PorterStemmer\n",
    "from wordcloud import WordCloud\n",
    "from nltk.corpus import stopwords\n",
    "from numpy import mean\n",
    "import numpy as np \n",
    "import pandas as pd\n",
    "import re"
   ]
  },
  {
   "cell_type": "code",
   "execution_count": 2,
   "id": "304b1be2",
   "metadata": {},
   "outputs": [],
   "source": [
    "train_sentiment  = pd.read_csv('D:\\Datasets\\Sentiment Analysis//train.tsv', sep=\"\\t\") "
   ]
  },
  {
   "cell_type": "markdown",
   "id": "1fb98507",
   "metadata": {},
   "source": [
    "Для каждой фразы в наборе тестов спрогнозируйте метку для настроения. <br>\n",
    "0 - negative <br>\n",
    "1 - somewhat negative <br>\n",
    "2 - neutral <br>\n",
    "3 - somewhat positive <br>\n",
    "4 - positive <br>\n",
    "classification: accuracy = 0.6"
   ]
  },
  {
   "cell_type": "markdown",
   "id": "d9731c58",
   "metadata": {},
   "source": [
    "## Изучение данных"
   ]
  },
  {
   "cell_type": "code",
   "execution_count": 3,
   "id": "0c04a688",
   "metadata": {},
   "outputs": [
    {
     "data": {
      "text/html": [
       "<div>\n",
       "<style scoped>\n",
       "    .dataframe tbody tr th:only-of-type {\n",
       "        vertical-align: middle;\n",
       "    }\n",
       "\n",
       "    .dataframe tbody tr th {\n",
       "        vertical-align: top;\n",
       "    }\n",
       "\n",
       "    .dataframe thead th {\n",
       "        text-align: right;\n",
       "    }\n",
       "</style>\n",
       "<table border=\"1\" class=\"dataframe\">\n",
       "  <thead>\n",
       "    <tr style=\"text-align: right;\">\n",
       "      <th></th>\n",
       "      <th>PhraseId</th>\n",
       "      <th>SentenceId</th>\n",
       "      <th>Phrase</th>\n",
       "      <th>Sentiment</th>\n",
       "    </tr>\n",
       "  </thead>\n",
       "  <tbody>\n",
       "    <tr>\n",
       "      <th>0</th>\n",
       "      <td>1</td>\n",
       "      <td>1</td>\n",
       "      <td>A series of escapades demonstrating the adage ...</td>\n",
       "      <td>1</td>\n",
       "    </tr>\n",
       "    <tr>\n",
       "      <th>1</th>\n",
       "      <td>2</td>\n",
       "      <td>1</td>\n",
       "      <td>A series of escapades demonstrating the adage ...</td>\n",
       "      <td>2</td>\n",
       "    </tr>\n",
       "    <tr>\n",
       "      <th>2</th>\n",
       "      <td>3</td>\n",
       "      <td>1</td>\n",
       "      <td>A series</td>\n",
       "      <td>2</td>\n",
       "    </tr>\n",
       "    <tr>\n",
       "      <th>3</th>\n",
       "      <td>4</td>\n",
       "      <td>1</td>\n",
       "      <td>A</td>\n",
       "      <td>2</td>\n",
       "    </tr>\n",
       "    <tr>\n",
       "      <th>4</th>\n",
       "      <td>5</td>\n",
       "      <td>1</td>\n",
       "      <td>series</td>\n",
       "      <td>2</td>\n",
       "    </tr>\n",
       "  </tbody>\n",
       "</table>\n",
       "</div>"
      ],
      "text/plain": [
       "   PhraseId  SentenceId                                             Phrase  \\\n",
       "0         1           1  A series of escapades demonstrating the adage ...   \n",
       "1         2           1  A series of escapades demonstrating the adage ...   \n",
       "2         3           1                                           A series   \n",
       "3         4           1                                                  A   \n",
       "4         5           1                                             series   \n",
       "\n",
       "   Sentiment  \n",
       "0          1  \n",
       "1          2  \n",
       "2          2  \n",
       "3          2  \n",
       "4          2  "
      ]
     },
     "execution_count": 3,
     "metadata": {},
     "output_type": "execute_result"
    }
   ],
   "source": [
    "train_sentiment.head()"
   ]
  },
  {
   "cell_type": "code",
   "execution_count": 4,
   "id": "72b4cbbf",
   "metadata": {},
   "outputs": [
    {
     "name": "stdout",
     "output_type": "stream",
     "text": [
      "<class 'pandas.core.frame.DataFrame'>\n",
      "RangeIndex: 156060 entries, 0 to 156059\n",
      "Data columns (total 4 columns):\n",
      " #   Column      Non-Null Count   Dtype \n",
      "---  ------      --------------   ----- \n",
      " 0   PhraseId    156060 non-null  int64 \n",
      " 1   SentenceId  156060 non-null  int64 \n",
      " 2   Phrase      156060 non-null  object\n",
      " 3   Sentiment   156060 non-null  int64 \n",
      "dtypes: int64(3), object(1)\n",
      "memory usage: 4.8+ MB\n"
     ]
    }
   ],
   "source": [
    "train_sentiment.info()"
   ]
  },
  {
   "cell_type": "code",
   "execution_count": 5,
   "id": "1b1f1fb6",
   "metadata": {},
   "outputs": [
    {
     "data": {
      "text/plain": [
       "2    50.994489\n",
       "3    21.098936\n",
       "1    17.475971\n",
       "4     5.899013\n",
       "0     4.531590\n",
       "Name: Sentiment, dtype: float64"
      ]
     },
     "execution_count": 5,
     "metadata": {},
     "output_type": "execute_result"
    }
   ],
   "source": [
    "train_sentiment.Sentiment.value_counts(normalize=True) * 100"
   ]
  },
  {
   "cell_type": "markdown",
   "id": "cfe601e1",
   "metadata": {},
   "source": [
    "## Подготовка данных"
   ]
  },
  {
   "cell_type": "code",
   "execution_count": 6,
   "id": "79c19069",
   "metadata": {},
   "outputs": [],
   "source": [
    "train_sentiment = train_sentiment.sample(frac=1) # перемешиваем данные"
   ]
  },
  {
   "cell_type": "code",
   "execution_count": 7,
   "id": "fa7b01e9",
   "metadata": {},
   "outputs": [
    {
     "data": {
      "text/plain": [
       "(156060, 4)"
      ]
     },
     "execution_count": 7,
     "metadata": {},
     "output_type": "execute_result"
    }
   ],
   "source": [
    "train_sentiment.shape"
   ]
  },
  {
   "cell_type": "code",
   "execution_count": 8,
   "id": "df48bde2",
   "metadata": {},
   "outputs": [
    {
     "data": {
      "text/html": [
       "<div>\n",
       "<style scoped>\n",
       "    .dataframe tbody tr th:only-of-type {\n",
       "        vertical-align: middle;\n",
       "    }\n",
       "\n",
       "    .dataframe tbody tr th {\n",
       "        vertical-align: top;\n",
       "    }\n",
       "\n",
       "    .dataframe thead th {\n",
       "        text-align: right;\n",
       "    }\n",
       "</style>\n",
       "<table border=\"1\" class=\"dataframe\">\n",
       "  <thead>\n",
       "    <tr style=\"text-align: right;\">\n",
       "      <th></th>\n",
       "      <th>PhraseId</th>\n",
       "      <th>SentenceId</th>\n",
       "      <th>Phrase</th>\n",
       "      <th>Sentiment</th>\n",
       "    </tr>\n",
       "  </thead>\n",
       "  <tbody>\n",
       "    <tr>\n",
       "      <th>116572</th>\n",
       "      <td>116573</td>\n",
       "      <td>6216</td>\n",
       "      <td>worth the trip to the theatre</td>\n",
       "      <td>4</td>\n",
       "    </tr>\n",
       "    <tr>\n",
       "      <th>144514</th>\n",
       "      <td>144515</td>\n",
       "      <td>7846</td>\n",
       "      <td>the CleanFlicks version</td>\n",
       "      <td>2</td>\n",
       "    </tr>\n",
       "    <tr>\n",
       "      <th>40268</th>\n",
       "      <td>40269</td>\n",
       "      <td>1929</td>\n",
       "      <td>With a large cast representing a broad cross-s...</td>\n",
       "      <td>2</td>\n",
       "    </tr>\n",
       "    <tr>\n",
       "      <th>33742</th>\n",
       "      <td>33743</td>\n",
       "      <td>1586</td>\n",
       "      <td>wrapped up in his own idiosyncratic strain of ...</td>\n",
       "      <td>2</td>\n",
       "    </tr>\n",
       "    <tr>\n",
       "      <th>108353</th>\n",
       "      <td>108354</td>\n",
       "      <td>5733</td>\n",
       "      <td>Bow Wow fans</td>\n",
       "      <td>2</td>\n",
       "    </tr>\n",
       "  </tbody>\n",
       "</table>\n",
       "</div>"
      ],
      "text/plain": [
       "        PhraseId  SentenceId  \\\n",
       "116572    116573        6216   \n",
       "144514    144515        7846   \n",
       "40268      40269        1929   \n",
       "33742      33743        1586   \n",
       "108353    108354        5733   \n",
       "\n",
       "                                                   Phrase  Sentiment  \n",
       "116572                      worth the trip to the theatre          4  \n",
       "144514                            the CleanFlicks version          2  \n",
       "40268   With a large cast representing a broad cross-s...          2  \n",
       "33742   wrapped up in his own idiosyncratic strain of ...          2  \n",
       "108353                                       Bow Wow fans          2  "
      ]
     },
     "execution_count": 8,
     "metadata": {},
     "output_type": "execute_result"
    }
   ],
   "source": [
    "train_sentiment.head()"
   ]
  },
  {
   "cell_type": "code",
   "execution_count": 9,
   "id": "7edfe38f",
   "metadata": {},
   "outputs": [],
   "source": [
    "def process_message(message, lower_case = True, stem = True, stop_words = True):\n",
    "    if lower_case:\n",
    "        message = message.lower()\n",
    "    words = word_tokenize(message)\n",
    "    if stop_words:\n",
    "        sw = stopwords.words('english')\n",
    "        words = [word for word in words if word not in sw]\n",
    "    if stem:\n",
    "        stemmer = PorterStemmer()\n",
    "        words = [stemmer.stem(word) for word in words]   \n",
    "    return words\n",
    "\n",
    "train_sentiment['Phrase'] = train_sentiment['Phrase'].apply(lambda x: ' '.join(process_message(x)))"
   ]
  },
  {
   "cell_type": "code",
   "execution_count": 10,
   "id": "de3fce99",
   "metadata": {},
   "outputs": [],
   "source": [
    "# после обработки остались пустые строки, лучше удалить\n",
    "train_sentiment['Phrase'].replace('', np.nan, inplace=True)\n",
    "train_sentiment.dropna(subset = ['Phrase'], inplace=True)"
   ]
  },
  {
   "cell_type": "code",
   "execution_count": 11,
   "id": "793ccf92",
   "metadata": {},
   "outputs": [
    {
     "data": {
      "text/plain": [
       "(155250, 4)"
      ]
     },
     "execution_count": 11,
     "metadata": {},
     "output_type": "execute_result"
    }
   ],
   "source": [
    "train_sentiment.shape"
   ]
  },
  {
   "cell_type": "code",
   "execution_count": 12,
   "id": "cb7c85c1",
   "metadata": {},
   "outputs": [
    {
     "data": {
      "text/html": [
       "<div>\n",
       "<style scoped>\n",
       "    .dataframe tbody tr th:only-of-type {\n",
       "        vertical-align: middle;\n",
       "    }\n",
       "\n",
       "    .dataframe tbody tr th {\n",
       "        vertical-align: top;\n",
       "    }\n",
       "\n",
       "    .dataframe thead th {\n",
       "        text-align: right;\n",
       "    }\n",
       "</style>\n",
       "<table border=\"1\" class=\"dataframe\">\n",
       "  <thead>\n",
       "    <tr style=\"text-align: right;\">\n",
       "      <th></th>\n",
       "      <th>PhraseId</th>\n",
       "      <th>SentenceId</th>\n",
       "      <th>Phrase</th>\n",
       "      <th>Sentiment</th>\n",
       "    </tr>\n",
       "  </thead>\n",
       "  <tbody>\n",
       "    <tr>\n",
       "      <th>116572</th>\n",
       "      <td>116573</td>\n",
       "      <td>6216</td>\n",
       "      <td>worth trip theatr</td>\n",
       "      <td>4</td>\n",
       "    </tr>\n",
       "    <tr>\n",
       "      <th>144514</th>\n",
       "      <td>144515</td>\n",
       "      <td>7846</td>\n",
       "      <td>cleanflick version</td>\n",
       "      <td>2</td>\n",
       "    </tr>\n",
       "    <tr>\n",
       "      <th>40268</th>\n",
       "      <td>40269</td>\n",
       "      <td>1929</td>\n",
       "      <td>larg cast repres broad cross-sect</td>\n",
       "      <td>2</td>\n",
       "    </tr>\n",
       "    <tr>\n",
       "      <th>33742</th>\n",
       "      <td>33743</td>\n",
       "      <td>1586</td>\n",
       "      <td>wrap idiosyncrat strain kitschi goodwil</td>\n",
       "      <td>2</td>\n",
       "    </tr>\n",
       "    <tr>\n",
       "      <th>108353</th>\n",
       "      <td>108354</td>\n",
       "      <td>5733</td>\n",
       "      <td>bow wow fan</td>\n",
       "      <td>2</td>\n",
       "    </tr>\n",
       "  </tbody>\n",
       "</table>\n",
       "</div>"
      ],
      "text/plain": [
       "        PhraseId  SentenceId                                   Phrase  \\\n",
       "116572    116573        6216                        worth trip theatr   \n",
       "144514    144515        7846                       cleanflick version   \n",
       "40268      40269        1929        larg cast repres broad cross-sect   \n",
       "33742      33743        1586  wrap idiosyncrat strain kitschi goodwil   \n",
       "108353    108354        5733                              bow wow fan   \n",
       "\n",
       "        Sentiment  \n",
       "116572          4  \n",
       "144514          2  \n",
       "40268           2  \n",
       "33742           2  \n",
       "108353          2  "
      ]
     },
     "execution_count": 12,
     "metadata": {},
     "output_type": "execute_result"
    }
   ],
   "source": [
    "train_sentiment.head()"
   ]
  },
  {
   "cell_type": "code",
   "execution_count": 13,
   "id": "a4e1765a",
   "metadata": {},
   "outputs": [],
   "source": [
    "X =  train_sentiment.Phrase\n",
    "y = train_sentiment.Sentiment"
   ]
  },
  {
   "cell_type": "code",
   "execution_count": 14,
   "id": "451a15db",
   "metadata": {},
   "outputs": [],
   "source": [
    "X_train, X_test, y_train, y_test = train_test_split(X, y, test_size = 0.3, random_state = 1)"
   ]
  },
  {
   "cell_type": "markdown",
   "id": "221bd860",
   "metadata": {},
   "source": [
    "## Кодировка данных"
   ]
  },
  {
   "cell_type": "code",
   "execution_count": 15,
   "id": "991689ef",
   "metadata": {},
   "outputs": [],
   "source": [
    "TV = TfidfVectorizer(ngram_range = (1,2), max_df = 0.95, min_df = 10,sublinear_tf = True) #  преобразование текстовых данных в числовую форму\n",
    "TV_train = TV.fit_transform(X_train)\n",
    "TV_test = TV.transform(X_test)"
   ]
  },
  {
   "cell_type": "code",
   "execution_count": 16,
   "id": "f537fd8b",
   "metadata": {},
   "outputs": [],
   "source": [
    "y_train = LabelEncoder().fit_transform(y_train)"
   ]
  },
  {
   "cell_type": "code",
   "execution_count": 17,
   "id": "7e815cc0",
   "metadata": {},
   "outputs": [],
   "source": [
    "smt = SMOTE() # используем, потому что дисбаланс классов\n",
    "TV_train, y_train = smt.fit_resample(TV_train, y_train)"
   ]
  },
  {
   "cell_type": "code",
   "execution_count": 18,
   "id": "c9dad533",
   "metadata": {},
   "outputs": [],
   "source": [
    "cv = KFold(n_splits=10, random_state=1, shuffle=True)"
   ]
  },
  {
   "cell_type": "markdown",
   "id": "56dd698e",
   "metadata": {},
   "source": [
    "## Обучение модели"
   ]
  },
  {
   "cell_type": "code",
   "execution_count": 19,
   "id": "3e437b37",
   "metadata": {},
   "outputs": [],
   "source": [
    "LR = LogisticRegression(penalty = 'l2', solver = 'sag').fit(TV_train, y_train)\n",
    "predictions_LR = LR.predict(TV_test)"
   ]
  },
  {
   "cell_type": "code",
   "execution_count": 20,
   "id": "88de38c7",
   "metadata": {},
   "outputs": [
    {
     "name": "stdout",
     "output_type": "stream",
     "text": [
      "Accuracy до кросс-валидации = 0.52, после = 0.6.\n"
     ]
    }
   ],
   "source": [
    "scores_LR = accuracy_score(y_test, predictions_LR)\n",
    "scores_LR_cross = cross_val_score(LR,  TV_test, y_test, scoring = 'accuracy', cv = cv, n_jobs = -1)\n",
    "\n",
    "print('Accuracy до кросс-валидации = {scores_LR}, после = {scores_LR_cross}.'.format(scores_LR = round(scores_LR, 2), scores_LR_cross = round(mean(scores_LR_cross),2)))"
   ]
  }
 ],
 "metadata": {
  "kernelspec": {
   "display_name": "Python 3",
   "language": "python",
   "name": "python3"
  },
  "language_info": {
   "codemirror_mode": {
    "name": "ipython",
    "version": 3
   },
   "file_extension": ".py",
   "mimetype": "text/x-python",
   "name": "python",
   "nbconvert_exporter": "python",
   "pygments_lexer": "ipython3",
   "version": "3.8.8"
  }
 },
 "nbformat": 4,
 "nbformat_minor": 5
}
