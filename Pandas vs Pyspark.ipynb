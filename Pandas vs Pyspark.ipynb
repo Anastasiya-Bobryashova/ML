{
 "cells": [
  {
   "cell_type": "code",
   "execution_count": 1,
   "id": "91706437",
   "metadata": {},
   "outputs": [
    {
     "name": "stderr",
     "output_type": "stream",
     "text": [
      "22/03/21 01:07:09 WARN Utils: Your hostname, HonorMagicBook resolves to a loopback address: 127.0.1.1; using 192.168.0.38 instead (on interface wlp2s0)\n",
      "22/03/21 01:07:09 WARN Utils: Set SPARK_LOCAL_IP if you need to bind to another address\n",
      "WARNING: An illegal reflective access operation has occurred\n",
      "WARNING: Illegal reflective access by org.apache.spark.unsafe.Platform (file:/home/oem/anaconda3/lib/python3.9/site-packages/pyspark/jars/spark-unsafe_2.12-3.2.1.jar) to constructor java.nio.DirectByteBuffer(long,int)\n",
      "WARNING: Please consider reporting this to the maintainers of org.apache.spark.unsafe.Platform\n",
      "WARNING: Use --illegal-access=warn to enable warnings of further illegal reflective access operations\n",
      "WARNING: All illegal access operations will be denied in a future release\n",
      "Using Spark's default log4j profile: org/apache/spark/log4j-defaults.properties\n",
      "Setting default log level to \"WARN\".\n",
      "To adjust logging level use sc.setLogLevel(newLevel). For SparkR, use setLogLevel(newLevel).\n",
      "22/03/21 01:07:11 WARN NativeCodeLoader: Unable to load native-hadoop library for your platform... using builtin-java classes where applicable\n",
      "22/03/21 01:07:12 WARN Utils: Service 'SparkUI' could not bind on port 4040. Attempting port 4041.\n",
      "22/03/21 01:07:12 WARN Utils: Service 'SparkUI' could not bind on port 4041. Attempting port 4042.\n"
     ]
    }
   ],
   "source": [
    "from pyspark.sql import functions as F, SparkSession\n",
    "from pyspark.sql.functions import col, lit, sum\n",
    "from pyspark.sql import functions as f\n",
    "from matplotlib import pyplot as plt\n",
    "from datetime import timedelta\n",
    "from pyspark.sql.types import *\n",
    "import pandas as pd\n",
    "\n",
    "spark = SparkSession.builder.appName('spark_session').getOrCreate()"
   ]
  },
  {
   "cell_type": "markdown",
   "id": "17deb1de",
   "metadata": {},
   "source": [
    "## Создание датафреймов "
   ]
  },
  {
   "cell_type": "code",
   "execution_count": 2,
   "id": "cc51dc12",
   "metadata": {},
   "outputs": [
    {
     "data": {
      "text/html": [
       "<div>\n",
       "<style scoped>\n",
       "    .dataframe tbody tr th:only-of-type {\n",
       "        vertical-align: middle;\n",
       "    }\n",
       "\n",
       "    .dataframe tbody tr th {\n",
       "        vertical-align: top;\n",
       "    }\n",
       "\n",
       "    .dataframe thead th {\n",
       "        text-align: right;\n",
       "    }\n",
       "</style>\n",
       "<table border=\"1\" class=\"dataframe\">\n",
       "  <thead>\n",
       "    <tr style=\"text-align: right;\">\n",
       "      <th></th>\n",
       "      <th>A</th>\n",
       "      <th>B</th>\n",
       "      <th>Value</th>\n",
       "      <th>Date_Column</th>\n",
       "    </tr>\n",
       "  </thead>\n",
       "  <tbody>\n",
       "    <tr>\n",
       "      <th>0</th>\n",
       "      <td>A1</td>\n",
       "      <td>B1</td>\n",
       "      <td>2</td>\n",
       "      <td>21-12-2021 10:30</td>\n",
       "    </tr>\n",
       "    <tr>\n",
       "      <th>1</th>\n",
       "      <td>A2</td>\n",
       "      <td>B2</td>\n",
       "      <td>4</td>\n",
       "      <td>21-12-2021 10:40</td>\n",
       "    </tr>\n",
       "    <tr>\n",
       "      <th>2</th>\n",
       "      <td>A3</td>\n",
       "      <td>B3</td>\n",
       "      <td>5</td>\n",
       "      <td>21-12-2021 11:00</td>\n",
       "    </tr>\n",
       "  </tbody>\n",
       "</table>\n",
       "</div>"
      ],
      "text/plain": [
       "    A   B  Value       Date_Column\n",
       "0  A1  B1      2  21-12-2021 10:30\n",
       "1  A2  B2      4  21-12-2021 10:40\n",
       "2  A3  B3      5  21-12-2021 11:00"
      ]
     },
     "execution_count": 2,
     "metadata": {},
     "output_type": "execute_result"
    }
   ],
   "source": [
    "df = [['A1', 'B1', 2, '21-12-2021 10:30'], \n",
    "      ['A2', 'B2', 4, '21-12-2021 10:40'], \n",
    "      ['A3', 'B3', 5, '21-12-2021 11:00']]\n",
    "df_pandas = pd.DataFrame(df, columns = ['A', 'B', 'Value', 'Date_Column'])\n",
    "\n",
    "df_pandas"
   ]
  },
  {
   "cell_type": "code",
   "execution_count": 3,
   "id": "28db589d",
   "metadata": {},
   "outputs": [
    {
     "name": "stderr",
     "output_type": "stream",
     "text": [
      "                                                                                \r"
     ]
    },
    {
     "name": "stdout",
     "output_type": "stream",
     "text": [
      "+---+---+-----+----------------+\n",
      "|  A|  B|Value|     Date_Column|\n",
      "+---+---+-----+----------------+\n",
      "| A1| B1|    2|21-12-2021 10:30|\n",
      "| A2| B2|    4|21-12-2021 10:40|\n",
      "| A3| B3|    5|21-12-2021 11:00|\n",
      "+---+---+-----+----------------+\n",
      "\n"
     ]
    }
   ],
   "source": [
    "df_spark = spark.createDataFrame(\n",
    "    [('A1', 'B1', 2, '21-12-2021 10:30'), \n",
    "     ('A2', 'B2', 4, '21-12-2021 10:40'), \n",
    "     ('A3', 'B3', 5, '21-12-2021 11:00')],\n",
    "    ['A', 'B', 'Value', 'Date_Column'] \n",
    ")\n",
    "\n",
    "df_spark.show()"
   ]
  },
  {
   "cell_type": "markdown",
   "id": "0a3379d8",
   "metadata": {},
   "source": [
    "## Создание новых столбцов"
   ]
  },
  {
   "cell_type": "markdown",
   "id": "04aaffb6",
   "metadata": {},
   "source": [
    "Новый столбец с постоянными значениями"
   ]
  },
  {
   "cell_type": "code",
   "execution_count": 4,
   "id": "57b9fb85",
   "metadata": {},
   "outputs": [
    {
     "data": {
      "text/html": [
       "<div>\n",
       "<style scoped>\n",
       "    .dataframe tbody tr th:only-of-type {\n",
       "        vertical-align: middle;\n",
       "    }\n",
       "\n",
       "    .dataframe tbody tr th {\n",
       "        vertical-align: top;\n",
       "    }\n",
       "\n",
       "    .dataframe thead th {\n",
       "        text-align: right;\n",
       "    }\n",
       "</style>\n",
       "<table border=\"1\" class=\"dataframe\">\n",
       "  <thead>\n",
       "    <tr style=\"text-align: right;\">\n",
       "      <th></th>\n",
       "      <th>A</th>\n",
       "      <th>B</th>\n",
       "      <th>Value</th>\n",
       "      <th>Date_Column</th>\n",
       "      <th>C</th>\n",
       "    </tr>\n",
       "  </thead>\n",
       "  <tbody>\n",
       "    <tr>\n",
       "      <th>0</th>\n",
       "      <td>A1</td>\n",
       "      <td>B1</td>\n",
       "      <td>2</td>\n",
       "      <td>21-12-2021 10:30</td>\n",
       "      <td>New Constant</td>\n",
       "    </tr>\n",
       "    <tr>\n",
       "      <th>1</th>\n",
       "      <td>A2</td>\n",
       "      <td>B2</td>\n",
       "      <td>4</td>\n",
       "      <td>21-12-2021 10:40</td>\n",
       "      <td>New Constant</td>\n",
       "    </tr>\n",
       "    <tr>\n",
       "      <th>2</th>\n",
       "      <td>A3</td>\n",
       "      <td>B3</td>\n",
       "      <td>5</td>\n",
       "      <td>21-12-2021 11:00</td>\n",
       "      <td>New Constant</td>\n",
       "    </tr>\n",
       "  </tbody>\n",
       "</table>\n",
       "</div>"
      ],
      "text/plain": [
       "    A   B  Value       Date_Column             C\n",
       "0  A1  B1      2  21-12-2021 10:30  New Constant\n",
       "1  A2  B2      4  21-12-2021 10:40  New Constant\n",
       "2  A3  B3      5  21-12-2021 11:00  New Constant"
      ]
     },
     "execution_count": 4,
     "metadata": {},
     "output_type": "execute_result"
    }
   ],
   "source": [
    "df_pandas['C'] = 'New Constant'\n",
    "df_spark = df_spark.withColumn('C', F.lit('New Constant'))\n",
    "\n",
    "df_pandas"
   ]
  },
  {
   "cell_type": "code",
   "execution_count": 5,
   "id": "1f2d829f",
   "metadata": {},
   "outputs": [
    {
     "name": "stdout",
     "output_type": "stream",
     "text": [
      "+---+---+-----+----------------+------------+\n",
      "|  A|  B|Value|     Date_Column|           C|\n",
      "+---+---+-----+----------------+------------+\n",
      "| A1| B1|    2|21-12-2021 10:30|New Constant|\n",
      "| A2| B2|    4|21-12-2021 10:40|New Constant|\n",
      "| A3| B3|    5|21-12-2021 11:00|New Constant|\n",
      "+---+---+-----+----------------+------------+\n",
      "\n"
     ]
    }
   ],
   "source": [
    "df_spark.show()"
   ]
  },
  {
   "cell_type": "markdown",
   "id": "9d0cb1e9",
   "metadata": {},
   "source": [
    "Новый столбец с использованием существующих столбцов"
   ]
  },
  {
   "cell_type": "code",
   "execution_count": 6,
   "id": "befa68b2",
   "metadata": {},
   "outputs": [
    {
     "data": {
      "text/html": [
       "<div>\n",
       "<style scoped>\n",
       "    .dataframe tbody tr th:only-of-type {\n",
       "        vertical-align: middle;\n",
       "    }\n",
       "\n",
       "    .dataframe tbody tr th {\n",
       "        vertical-align: top;\n",
       "    }\n",
       "\n",
       "    .dataframe thead th {\n",
       "        text-align: right;\n",
       "    }\n",
       "</style>\n",
       "<table border=\"1\" class=\"dataframe\">\n",
       "  <thead>\n",
       "    <tr style=\"text-align: right;\">\n",
       "      <th></th>\n",
       "      <th>A</th>\n",
       "      <th>B</th>\n",
       "      <th>Value</th>\n",
       "      <th>Date_Column</th>\n",
       "      <th>C</th>\n",
       "    </tr>\n",
       "  </thead>\n",
       "  <tbody>\n",
       "    <tr>\n",
       "      <th>0</th>\n",
       "      <td>A1</td>\n",
       "      <td>B1</td>\n",
       "      <td>2</td>\n",
       "      <td>21-12-2021 10:30</td>\n",
       "      <td>A1B1</td>\n",
       "    </tr>\n",
       "    <tr>\n",
       "      <th>1</th>\n",
       "      <td>A2</td>\n",
       "      <td>B2</td>\n",
       "      <td>4</td>\n",
       "      <td>21-12-2021 10:40</td>\n",
       "      <td>A2B2</td>\n",
       "    </tr>\n",
       "    <tr>\n",
       "      <th>2</th>\n",
       "      <td>A3</td>\n",
       "      <td>B3</td>\n",
       "      <td>5</td>\n",
       "      <td>21-12-2021 11:00</td>\n",
       "      <td>A3B3</td>\n",
       "    </tr>\n",
       "  </tbody>\n",
       "</table>\n",
       "</div>"
      ],
      "text/plain": [
       "    A   B  Value       Date_Column     C\n",
       "0  A1  B1      2  21-12-2021 10:30  A1B1\n",
       "1  A2  B2      4  21-12-2021 10:40  A2B2\n",
       "2  A3  B3      5  21-12-2021 11:00  A3B3"
      ]
     },
     "execution_count": 6,
     "metadata": {},
     "output_type": "execute_result"
    }
   ],
   "source": [
    "df_pandas['C'] = df_pandas['A'] + df_pandas['B']\n",
    "df_spark = df_spark.withColumn('C', F.concat('A', 'B'))\n",
    "\n",
    "df_pandas"
   ]
  },
  {
   "cell_type": "code",
   "execution_count": 7,
   "id": "a8f41ed5",
   "metadata": {},
   "outputs": [
    {
     "name": "stdout",
     "output_type": "stream",
     "text": [
      "+---+---+-----+----------------+----+\n",
      "|  A|  B|Value|     Date_Column|   C|\n",
      "+---+---+-----+----------------+----+\n",
      "| A1| B1|    2|21-12-2021 10:30|A1B1|\n",
      "| A2| B2|    4|21-12-2021 10:40|A2B2|\n",
      "| A3| B3|    5|21-12-2021 11:00|A3B3|\n",
      "+---+---+-----+----------------+----+\n",
      "\n"
     ]
    }
   ],
   "source": [
    "df_spark.show()"
   ]
  },
  {
   "cell_type": "markdown",
   "id": "46fdc53c",
   "metadata": {},
   "source": [
    "## Обновление данных существующего столбца"
   ]
  },
  {
   "cell_type": "code",
   "execution_count": 8,
   "id": "f100af92",
   "metadata": {},
   "outputs": [
    {
     "data": {
      "text/html": [
       "<div>\n",
       "<style scoped>\n",
       "    .dataframe tbody tr th:only-of-type {\n",
       "        vertical-align: middle;\n",
       "    }\n",
       "\n",
       "    .dataframe tbody tr th {\n",
       "        vertical-align: top;\n",
       "    }\n",
       "\n",
       "    .dataframe thead th {\n",
       "        text-align: right;\n",
       "    }\n",
       "</style>\n",
       "<table border=\"1\" class=\"dataframe\">\n",
       "  <thead>\n",
       "    <tr style=\"text-align: right;\">\n",
       "      <th></th>\n",
       "      <th>A</th>\n",
       "      <th>B</th>\n",
       "      <th>Value</th>\n",
       "      <th>Date_Column</th>\n",
       "      <th>C</th>\n",
       "    </tr>\n",
       "  </thead>\n",
       "  <tbody>\n",
       "    <tr>\n",
       "      <th>0</th>\n",
       "      <td>A1</td>\n",
       "      <td>B1</td>\n",
       "      <td>4</td>\n",
       "      <td>21-12-2021 10:30</td>\n",
       "      <td>A1B1</td>\n",
       "    </tr>\n",
       "    <tr>\n",
       "      <th>1</th>\n",
       "      <td>A2</td>\n",
       "      <td>B2</td>\n",
       "      <td>16</td>\n",
       "      <td>21-12-2021 10:40</td>\n",
       "      <td>A2B2</td>\n",
       "    </tr>\n",
       "    <tr>\n",
       "      <th>2</th>\n",
       "      <td>A3</td>\n",
       "      <td>B3</td>\n",
       "      <td>25</td>\n",
       "      <td>21-12-2021 11:00</td>\n",
       "      <td>A3B3</td>\n",
       "    </tr>\n",
       "  </tbody>\n",
       "</table>\n",
       "</div>"
      ],
      "text/plain": [
       "    A   B  Value       Date_Column     C\n",
       "0  A1  B1      4  21-12-2021 10:30  A1B1\n",
       "1  A2  B2     16  21-12-2021 10:40  A2B2\n",
       "2  A3  B3     25  21-12-2021 11:00  A3B3"
      ]
     },
     "execution_count": 8,
     "metadata": {},
     "output_type": "execute_result"
    }
   ],
   "source": [
    "df_pandas['Value'] = df_pandas['Value']**2\n",
    "df_spark = df_spark.withColumn('Value', F.col('Value')**2)\n",
    "\n",
    "df_pandas"
   ]
  },
  {
   "cell_type": "code",
   "execution_count": 9,
   "id": "e619aab1",
   "metadata": {},
   "outputs": [
    {
     "name": "stdout",
     "output_type": "stream",
     "text": [
      "+---+---+-----+----------------+----+\n",
      "|  A|  B|Value|     Date_Column|   C|\n",
      "+---+---+-----+----------------+----+\n",
      "| A1| B1|  4.0|21-12-2021 10:30|A1B1|\n",
      "| A2| B2| 16.0|21-12-2021 10:40|A2B2|\n",
      "| A3| B3| 25.0|21-12-2021 11:00|A3B3|\n",
      "+---+---+-----+----------------+----+\n",
      "\n"
     ]
    }
   ],
   "source": [
    "df_spark.show()"
   ]
  },
  {
   "cell_type": "markdown",
   "id": "5f648f52",
   "metadata": {},
   "source": [
    "## Выборка, фильтрация данных"
   ]
  },
  {
   "cell_type": "code",
   "execution_count": 10,
   "id": "7ab1cf0b",
   "metadata": {},
   "outputs": [
    {
     "data": {
      "text/html": [
       "<div>\n",
       "<style scoped>\n",
       "    .dataframe tbody tr th:only-of-type {\n",
       "        vertical-align: middle;\n",
       "    }\n",
       "\n",
       "    .dataframe tbody tr th {\n",
       "        vertical-align: top;\n",
       "    }\n",
       "\n",
       "    .dataframe thead th {\n",
       "        text-align: right;\n",
       "    }\n",
       "</style>\n",
       "<table border=\"1\" class=\"dataframe\">\n",
       "  <thead>\n",
       "    <tr style=\"text-align: right;\">\n",
       "      <th></th>\n",
       "      <th>A</th>\n",
       "      <th>B</th>\n",
       "    </tr>\n",
       "  </thead>\n",
       "  <tbody>\n",
       "    <tr>\n",
       "      <th>0</th>\n",
       "      <td>A1</td>\n",
       "      <td>B1</td>\n",
       "    </tr>\n",
       "    <tr>\n",
       "      <th>1</th>\n",
       "      <td>A2</td>\n",
       "      <td>B2</td>\n",
       "    </tr>\n",
       "    <tr>\n",
       "      <th>2</th>\n",
       "      <td>A3</td>\n",
       "      <td>B3</td>\n",
       "    </tr>\n",
       "  </tbody>\n",
       "</table>\n",
       "</div>"
      ],
      "text/plain": [
       "    A   B\n",
       "0  A1  B1\n",
       "1  A2  B2\n",
       "2  A3  B3"
      ]
     },
     "execution_count": 10,
     "metadata": {},
     "output_type": "execute_result"
    }
   ],
   "source": [
    "df_pandas[['A','B']]"
   ]
  },
  {
   "cell_type": "code",
   "execution_count": 11,
   "id": "852b64d1",
   "metadata": {},
   "outputs": [
    {
     "name": "stdout",
     "output_type": "stream",
     "text": [
      "+---+---+\n",
      "|  A|  B|\n",
      "+---+---+\n",
      "| A1| B1|\n",
      "| A2| B2|\n",
      "| A3| B3|\n",
      "+---+---+\n",
      "\n"
     ]
    }
   ],
   "source": [
    "df_spark.select('A','B').show()"
   ]
  },
  {
   "cell_type": "code",
   "execution_count": 12,
   "id": "44b27845",
   "metadata": {},
   "outputs": [
    {
     "data": {
      "text/html": [
       "<div>\n",
       "<style scoped>\n",
       "    .dataframe tbody tr th:only-of-type {\n",
       "        vertical-align: middle;\n",
       "    }\n",
       "\n",
       "    .dataframe tbody tr th {\n",
       "        vertical-align: top;\n",
       "    }\n",
       "\n",
       "    .dataframe thead th {\n",
       "        text-align: right;\n",
       "    }\n",
       "</style>\n",
       "<table border=\"1\" class=\"dataframe\">\n",
       "  <thead>\n",
       "    <tr style=\"text-align: right;\">\n",
       "      <th></th>\n",
       "      <th>A</th>\n",
       "      <th>B</th>\n",
       "      <th>Value</th>\n",
       "      <th>Date_Column</th>\n",
       "      <th>C</th>\n",
       "    </tr>\n",
       "  </thead>\n",
       "  <tbody>\n",
       "    <tr>\n",
       "      <th>0</th>\n",
       "      <td>A1</td>\n",
       "      <td>B1</td>\n",
       "      <td>4</td>\n",
       "      <td>21-12-2021 10:30</td>\n",
       "      <td>A1B1</td>\n",
       "    </tr>\n",
       "    <tr>\n",
       "      <th>1</th>\n",
       "      <td>A2</td>\n",
       "      <td>B2</td>\n",
       "      <td>16</td>\n",
       "      <td>21-12-2021 10:40</td>\n",
       "      <td>A2B2</td>\n",
       "    </tr>\n",
       "    <tr>\n",
       "      <th>2</th>\n",
       "      <td>A3</td>\n",
       "      <td>B3</td>\n",
       "      <td>25</td>\n",
       "      <td>21-12-2021 11:00</td>\n",
       "      <td>A3B3</td>\n",
       "    </tr>\n",
       "  </tbody>\n",
       "</table>\n",
       "</div>"
      ],
      "text/plain": [
       "    A   B  Value       Date_Column     C\n",
       "0  A1  B1      4  21-12-2021 10:30  A1B1\n",
       "1  A2  B2     16  21-12-2021 10:40  A2B2\n",
       "2  A3  B3     25  21-12-2021 11:00  A3B3"
      ]
     },
     "execution_count": 12,
     "metadata": {},
     "output_type": "execute_result"
    }
   ],
   "source": [
    "df_pandas[df_pandas['Value']<600]"
   ]
  },
  {
   "cell_type": "code",
   "execution_count": 13,
   "id": "a418d2cd",
   "metadata": {},
   "outputs": [
    {
     "name": "stdout",
     "output_type": "stream",
     "text": [
      "+---+---+-----+----------------+----+\n",
      "|  A|  B|Value|     Date_Column|   C|\n",
      "+---+---+-----+----------------+----+\n",
      "| A1| B1|  4.0|21-12-2021 10:30|A1B1|\n",
      "| A2| B2| 16.0|21-12-2021 10:40|A2B2|\n",
      "| A3| B3| 25.0|21-12-2021 11:00|A3B3|\n",
      "+---+---+-----+----------------+----+\n",
      "\n"
     ]
    }
   ],
   "source": [
    "df_spark.filter(df_spark.Value < 600).show()"
   ]
  },
  {
   "cell_type": "markdown",
   "id": "c30680aa",
   "metadata": {},
   "source": [
    "## Преобразования типа столбца"
   ]
  },
  {
   "cell_type": "code",
   "execution_count": 14,
   "id": "78b35bec",
   "metadata": {},
   "outputs": [
    {
     "data": {
      "text/plain": [
       "A                      object\n",
       "B                      object\n",
       "Value                   int64\n",
       "Date_Column    datetime64[ns]\n",
       "C                      object\n",
       "dtype: object"
      ]
     },
     "execution_count": 14,
     "metadata": {},
     "output_type": "execute_result"
    }
   ],
   "source": [
    "df_pandas['Date_Column'] = pd.to_datetime(df_pandas['Date_Column'], format='%d-%m-%Y %H:%M')\n",
    "\n",
    "df_pandas.dtypes"
   ]
  },
  {
   "cell_type": "code",
   "execution_count": 15,
   "id": "f72bc4be",
   "metadata": {},
   "outputs": [
    {
     "name": "stdout",
     "output_type": "stream",
     "text": [
      "+---+---+-----+----------------+----+\n",
      "|  A|  B|Value|     Date_Column|   C|\n",
      "+---+---+-----+----------------+----+\n",
      "| A1| B1|  4.0|21-12-2021 10:30|A1B1|\n",
      "| A2| B2| 16.0|21-12-2021 10:40|A2B2|\n",
      "| A3| B3| 25.0|21-12-2021 11:00|A3B3|\n",
      "+---+---+-----+----------------+----+\n",
      "\n"
     ]
    }
   ],
   "source": [
    "df_spark.withColumn(\"Date_Column\", F.to_timestamp(\"Date_Column\", \"dd-MM-yyyy hh:mm\"))\n",
    "\n",
    "df_spark.show()"
   ]
  },
  {
   "cell_type": "markdown",
   "id": "c39411c5",
   "metadata": {},
   "source": [
    "## Переименование, удаление столбцов"
   ]
  },
  {
   "cell_type": "code",
   "execution_count": 16,
   "id": "0b7c9915",
   "metadata": {},
   "outputs": [
    {
     "data": {
      "text/html": [
       "<div>\n",
       "<style scoped>\n",
       "    .dataframe tbody tr th:only-of-type {\n",
       "        vertical-align: middle;\n",
       "    }\n",
       "\n",
       "    .dataframe tbody tr th {\n",
       "        vertical-align: top;\n",
       "    }\n",
       "\n",
       "    .dataframe thead th {\n",
       "        text-align: right;\n",
       "    }\n",
       "</style>\n",
       "<table border=\"1\" class=\"dataframe\">\n",
       "  <thead>\n",
       "    <tr style=\"text-align: right;\">\n",
       "      <th></th>\n",
       "      <th>Col_A</th>\n",
       "      <th>Col_B</th>\n",
       "      <th>Value</th>\n",
       "      <th>Date_Column</th>\n",
       "      <th>C</th>\n",
       "    </tr>\n",
       "  </thead>\n",
       "  <tbody>\n",
       "    <tr>\n",
       "      <th>0</th>\n",
       "      <td>A1</td>\n",
       "      <td>B1</td>\n",
       "      <td>4</td>\n",
       "      <td>2021-12-21 10:30:00</td>\n",
       "      <td>A1B1</td>\n",
       "    </tr>\n",
       "    <tr>\n",
       "      <th>1</th>\n",
       "      <td>A2</td>\n",
       "      <td>B2</td>\n",
       "      <td>16</td>\n",
       "      <td>2021-12-21 10:40:00</td>\n",
       "      <td>A2B2</td>\n",
       "    </tr>\n",
       "    <tr>\n",
       "      <th>2</th>\n",
       "      <td>A3</td>\n",
       "      <td>B3</td>\n",
       "      <td>25</td>\n",
       "      <td>2021-12-21 11:00:00</td>\n",
       "      <td>A3B3</td>\n",
       "    </tr>\n",
       "  </tbody>\n",
       "</table>\n",
       "</div>"
      ],
      "text/plain": [
       "  Col_A Col_B  Value         Date_Column     C\n",
       "0    A1    B1      4 2021-12-21 10:30:00  A1B1\n",
       "1    A2    B2     16 2021-12-21 10:40:00  A2B2\n",
       "2    A3    B3     25 2021-12-21 11:00:00  A3B3"
      ]
     },
     "execution_count": 16,
     "metadata": {},
     "output_type": "execute_result"
    }
   ],
   "source": [
    "df_pandas = df_pandas.rename(columns={'A': 'Col_A', 'B': 'Col_B'})\n",
    "\n",
    "df_pandas"
   ]
  },
  {
   "cell_type": "code",
   "execution_count": 17,
   "id": "075ffb4d",
   "metadata": {},
   "outputs": [
    {
     "name": "stdout",
     "output_type": "stream",
     "text": [
      "+---+---+-----+----------------+----+\n",
      "|  A|  B|Value|     Date_Column|   C|\n",
      "+---+---+-----+----------------+----+\n",
      "| A1| B1|  4.0|21-12-2021 10:30|A1B1|\n",
      "| A2| B2| 16.0|21-12-2021 10:40|A2B2|\n",
      "| A3| B3| 25.0|21-12-2021 11:00|A3B3|\n",
      "+---+---+-----+----------------+----+\n",
      "\n"
     ]
    }
   ],
   "source": [
    "df_spark.withColumnRenamed('A', 'Col_A').withColumnRenamed('B', 'Col_B')\n",
    "\n",
    "df_spark.show()"
   ]
  },
  {
   "cell_type": "code",
   "execution_count": 18,
   "id": "6d354a74",
   "metadata": {},
   "outputs": [
    {
     "name": "stdout",
     "output_type": "stream",
     "text": [
      "+-----+----------------+----+\n",
      "|Value|     Date_Column|   C|\n",
      "+-----+----------------+----+\n",
      "|  4.0|21-12-2021 10:30|A1B1|\n",
      "| 16.0|21-12-2021 10:40|A2B2|\n",
      "| 25.0|21-12-2021 11:00|A3B3|\n",
      "+-----+----------------+----+\n",
      "\n"
     ]
    }
   ],
   "source": [
    "df_spark = df_spark.drop('A', 'B')\n",
    "\n",
    "df_spark.show()"
   ]
  },
  {
   "cell_type": "code",
   "execution_count": 19,
   "id": "4429854b",
   "metadata": {},
   "outputs": [
    {
     "data": {
      "text/html": [
       "<div>\n",
       "<style scoped>\n",
       "    .dataframe tbody tr th:only-of-type {\n",
       "        vertical-align: middle;\n",
       "    }\n",
       "\n",
       "    .dataframe tbody tr th {\n",
       "        vertical-align: top;\n",
       "    }\n",
       "\n",
       "    .dataframe thead th {\n",
       "        text-align: right;\n",
       "    }\n",
       "</style>\n",
       "<table border=\"1\" class=\"dataframe\">\n",
       "  <thead>\n",
       "    <tr style=\"text-align: right;\">\n",
       "      <th></th>\n",
       "      <th>Value</th>\n",
       "      <th>Date_Column</th>\n",
       "      <th>C</th>\n",
       "    </tr>\n",
       "  </thead>\n",
       "  <tbody>\n",
       "    <tr>\n",
       "      <th>0</th>\n",
       "      <td>4</td>\n",
       "      <td>2021-12-21 10:30:00</td>\n",
       "      <td>A1B1</td>\n",
       "    </tr>\n",
       "    <tr>\n",
       "      <th>1</th>\n",
       "      <td>16</td>\n",
       "      <td>2021-12-21 10:40:00</td>\n",
       "      <td>A2B2</td>\n",
       "    </tr>\n",
       "    <tr>\n",
       "      <th>2</th>\n",
       "      <td>25</td>\n",
       "      <td>2021-12-21 11:00:00</td>\n",
       "      <td>A3B3</td>\n",
       "    </tr>\n",
       "  </tbody>\n",
       "</table>\n",
       "</div>"
      ],
      "text/plain": [
       "   Value         Date_Column     C\n",
       "0      4 2021-12-21 10:30:00  A1B1\n",
       "1     16 2021-12-21 10:40:00  A2B2\n",
       "2     25 2021-12-21 11:00:00  A3B3"
      ]
     },
     "execution_count": 19,
     "metadata": {},
     "output_type": "execute_result"
    }
   ],
   "source": [
    "df_pandas.drop(['Col_A', 'Col_B'], axis=1)"
   ]
  },
  {
   "cell_type": "markdown",
   "id": "1a98901f",
   "metadata": {},
   "source": [
    "## Остальное"
   ]
  },
  {
   "cell_type": "code",
   "execution_count": 20,
   "id": "f3529dc2",
   "metadata": {},
   "outputs": [
    {
     "name": "stdout",
     "output_type": "stream",
     "text": [
      "(3, 5)\n",
      "(3, 3)\n"
     ]
    }
   ],
   "source": [
    "print(df_pandas.shape)\n",
    "\n",
    "print((df_spark.count(), len(df_spark.columns)))"
   ]
  },
  {
   "cell_type": "code",
   "execution_count": 21,
   "id": "fa5e5365",
   "metadata": {},
   "outputs": [
    {
     "data": {
      "text/plain": [
       "array([ 4, 16, 25])"
      ]
     },
     "execution_count": 21,
     "metadata": {},
     "output_type": "execute_result"
    }
   ],
   "source": [
    "df_pandas['Value'].unique()"
   ]
  },
  {
   "cell_type": "code",
   "execution_count": 22,
   "id": "fbf6e61b",
   "metadata": {},
   "outputs": [
    {
     "name": "stdout",
     "output_type": "stream",
     "text": [
      "+-----+\n",
      "|Value|\n",
      "+-----+\n",
      "|  4.0|\n",
      "| 16.0|\n",
      "| 25.0|\n",
      "+-----+\n",
      "\n"
     ]
    }
   ],
   "source": [
    "df_spark.select('Value').distinct().show()"
   ]
  },
  {
   "cell_type": "markdown",
   "id": "c4a46ab1",
   "metadata": {},
   "source": [
    "## Spark"
   ]
  },
  {
   "cell_type": "markdown",
   "id": "7a2bcd7b",
   "metadata": {},
   "source": [
    "SparkSession — это способ инициализации базовой функциональности PySpark для программного создания PySpark RDD, DataFrame и Dataset. \n",
    "\n",
    "SparkSession внутренне создает SparkConfig и SparkContext с конфигурацией, предоставленной с SparkSession. SparkSession можно создать с помощью SparkSession.builder, который представляет собой реализацию шаблона проектирования Builder.\n",
    "\n",
    "Чтобы создать SparkSession необходимо использовать метод builder().\n",
    "</br>\n",
    "getOrCreate() возвращает уже существующий SparkSession; если он не существует, создается новый SparkSession.\n",
    "</br>\n",
    "appName() используется для установки имени приложения.\n",
    "</br>\n",
    "master(): если работа идёт с кластером, тогда нужно передать имя кластерного менеджера в качестве аргумента.\n",
    "\n",
    "\n",
    "Обычно это либо yarn, либо mesos в зависимости от настройки кластера, а при работе в автономном режиме используется local[x]. Здесь X указывает сколько разделов будет создано при использовании RDD, DataFrame и Dataset."
   ]
  },
  {
   "cell_type": "code",
   "execution_count": 23,
   "id": "c7b14442",
   "metadata": {},
   "outputs": [],
   "source": [
    "spark = SparkSession.builder.master(\"local[*]\").appName('PySpark_Tutorial').getOrCreate()"
   ]
  },
  {
   "cell_type": "markdown",
   "id": "924714e4",
   "metadata": {},
   "source": [
    "Схема Spark отображает структуру фрейма данных или датасета. Можно определить её с помощью класса StructType, который представляет собой коллекцию объектов StructField. Они в свою очередь устанавливают имя столбца, его тип, допускает ли он значение NULL, и метаданные."
   ]
  },
  {
   "cell_type": "code",
   "execution_count": 24,
   "id": "bcb8b017",
   "metadata": {},
   "outputs": [],
   "source": [
    "data_schema = [\n",
    "               StructField('gender', StringType(), True),\n",
    "               StructField('race/ethnicity', StringType(), True),\n",
    "               StructField('parental level of education', StringType(), True),\n",
    "               StructField('lunch', StringType(), True),\n",
    "               StructField('test preparation course', StringType(), True),\n",
    "               StructField('math score', IntegerType(), True),\n",
    "               StructField('reading score', IntegerType(), True),\n",
    "               StructField('writing score', IntegerType(), True),\n",
    "            ]\n",
    "\n",
    "final_struc = StructType(fields = data_schema)"
   ]
  },
  {
   "cell_type": "markdown",
   "id": "696a1d2c",
   "metadata": {},
   "source": [
    "## Чтение данных"
   ]
  },
  {
   "cell_type": "code",
   "execution_count": 25,
   "id": "bd0eeb82",
   "metadata": {},
   "outputs": [],
   "source": [
    "Students = spark.read.csv('/home/oem/Desktop/StudentsPerformance.csv', header=True, sep=',', schema=final_struc)"
   ]
  },
  {
   "cell_type": "code",
   "execution_count": 26,
   "id": "d9dae9c4",
   "metadata": {},
   "outputs": [
    {
     "name": "stdout",
     "output_type": "stream",
     "text": [
      "+------+--------------+------------------+------------+---------+----------+-------------+-------------+\n",
      "|gender|race/ethnicity|         education|       lunch|     test|math score|reading score|writing score|\n",
      "+------+--------------+------------------+------------+---------+----------+-------------+-------------+\n",
      "|female|       group B| bachelor's degree|    standard|     none|        72|           72|           74|\n",
      "|female|       group C|      some college|    standard|completed|        69|           90|           88|\n",
      "|female|       group B|   master's degree|    standard|     none|        90|           95|           93|\n",
      "|  male|       group A|associate's degree|free/reduced|     none|        47|           57|           44|\n",
      "|  male|       group C|      some college|    standard|     none|        76|           78|           75|\n",
      "|female|       group B|associate's degree|    standard|     none|        71|           83|           78|\n",
      "|female|       group B|      some college|    standard|completed|        88|           95|           92|\n",
      "|  male|       group B|      some college|free/reduced|     none|        40|           43|           39|\n",
      "|  male|       group D|       high school|free/reduced|completed|        64|           64|           67|\n",
      "|female|       group B|       high school|free/reduced|     none|        38|           60|           50|\n",
      "|  male|       group C|associate's degree|    standard|     none|        58|           54|           52|\n",
      "|  male|       group D|associate's degree|    standard|     none|        40|           52|           43|\n",
      "|female|       group B|       high school|    standard|     none|        65|           81|           73|\n",
      "|  male|       group A|      some college|    standard|completed|        78|           72|           70|\n",
      "|female|       group A|   master's degree|    standard|     none|        50|           53|           58|\n",
      "|female|       group C|  some high school|    standard|     none|        69|           75|           78|\n",
      "|  male|       group C|       high school|    standard|     none|        88|           89|           86|\n",
      "|female|       group B|  some high school|free/reduced|     none|        18|           32|           28|\n",
      "|  male|       group C|   master's degree|free/reduced|completed|        46|           42|           46|\n",
      "|female|       group C|associate's degree|free/reduced|     none|        54|           58|           61|\n",
      "+------+--------------+------------------+------------+---------+----------+-------------+-------------+\n",
      "only showing top 20 rows\n",
      "\n"
     ]
    }
   ],
   "source": [
    "Students = Students.withColumnRenamed('parental level of education', 'education')\n",
    "Students = Students.withColumnRenamed('test preparation course', 'test')\n",
    "\n",
    "Students.show()"
   ]
  },
  {
   "cell_type": "code",
   "execution_count": 27,
   "id": "d3687eb1",
   "metadata": {},
   "outputs": [
    {
     "name": "stdout",
     "output_type": "stream",
     "text": [
      "root\n",
      " |-- gender: string (nullable = true)\n",
      " |-- race/ethnicity: string (nullable = true)\n",
      " |-- education: string (nullable = true)\n",
      " |-- lunch: string (nullable = true)\n",
      " |-- test: string (nullable = true)\n",
      " |-- math score: integer (nullable = true)\n",
      " |-- reading score: integer (nullable = true)\n",
      " |-- writing score: integer (nullable = true)\n",
      "\n"
     ]
    }
   ],
   "source": [
    "Students.printSchema()"
   ]
  },
  {
   "cell_type": "markdown",
   "id": "dcc210ba",
   "metadata": {},
   "source": [
    "## Spark"
   ]
  },
  {
   "cell_type": "markdown",
   "id": "1f535d94",
   "metadata": {},
   "source": [
    "## Различные методы инспекции данных"
   ]
  },
  {
   "cell_type": "code",
   "execution_count": 28,
   "id": "a45d93b0",
   "metadata": {},
   "outputs": [
    {
     "data": {
      "text/plain": [
       "StructType(List(StructField(gender,StringType,true),StructField(race/ethnicity,StringType,true),StructField(education,StringType,true),StructField(lunch,StringType,true),StructField(test,StringType,true),StructField(math score,IntegerType,true),StructField(reading score,IntegerType,true),StructField(writing score,IntegerType,true)))"
      ]
     },
     "execution_count": 28,
     "metadata": {},
     "output_type": "execute_result"
    }
   ],
   "source": [
    "# schema возвращает схему данных\n",
    "Students.schema"
   ]
  },
  {
   "cell_type": "code",
   "execution_count": 29,
   "id": "75ea5be3",
   "metadata": {},
   "outputs": [
    {
     "name": "stdout",
     "output_type": "stream",
     "text": [
      "root\n",
      " |-- gender: string (nullable = true)\n",
      " |-- race/ethnicity: string (nullable = true)\n",
      " |-- education: string (nullable = true)\n",
      " |-- lunch: string (nullable = true)\n",
      " |-- test: string (nullable = true)\n",
      " |-- math score: integer (nullable = true)\n",
      " |-- reading score: integer (nullable = true)\n",
      " |-- writing score: integer (nullable = true)\n",
      "\n"
     ]
    }
   ],
   "source": [
    "# printSchema() отображает схему данных\n",
    "Students.printSchema() "
   ]
  },
  {
   "cell_type": "code",
   "execution_count": 30,
   "id": "03eb615e",
   "metadata": {},
   "outputs": [
    {
     "data": {
      "text/plain": [
       "[('gender', 'string'),\n",
       " ('race/ethnicity', 'string'),\n",
       " ('education', 'string'),\n",
       " ('lunch', 'string'),\n",
       " ('test', 'string'),\n",
       " ('math score', 'int'),\n",
       " ('reading score', 'int'),\n",
       " ('writing score', 'int')]"
      ]
     },
     "execution_count": 30,
     "metadata": {},
     "output_type": "execute_result"
    }
   ],
   "source": [
    "# dtypes возвращает список кортежей с именами столбцов и типами данных\n",
    "Students.dtypes"
   ]
  },
  {
   "cell_type": "code",
   "execution_count": 31,
   "id": "60ab73b6",
   "metadata": {},
   "outputs": [
    {
     "data": {
      "text/plain": [
       "[Row(gender='female', race/ethnicity='group B', education=\"bachelor's degree\", lunch='standard', test='none', math score=72, reading score=72, writing score=74),\n",
       " Row(gender='female', race/ethnicity='group C', education='some college', lunch='standard', test='completed', math score=69, reading score=90, writing score=88),\n",
       " Row(gender='female', race/ethnicity='group B', education=\"master's degree\", lunch='standard', test='none', math score=90, reading score=95, writing score=93)]"
      ]
     },
     "execution_count": 31,
     "metadata": {},
     "output_type": "execute_result"
    }
   ],
   "source": [
    "# head(n) возвращает n строк в виде списка\n",
    "Students.head(3)"
   ]
  },
  {
   "cell_type": "code",
   "execution_count": 32,
   "id": "81b98e58",
   "metadata": {},
   "outputs": [
    {
     "name": "stdout",
     "output_type": "stream",
     "text": [
      "+------+--------------+------------------+------------+---------+----------+-------------+-------------+\n",
      "|gender|race/ethnicity|         education|       lunch|     test|math score|reading score|writing score|\n",
      "+------+--------------+------------------+------------+---------+----------+-------------+-------------+\n",
      "|female|       group B| bachelor's degree|    standard|     none|        72|           72|           74|\n",
      "|female|       group C|      some college|    standard|completed|        69|           90|           88|\n",
      "|female|       group B|   master's degree|    standard|     none|        90|           95|           93|\n",
      "|  male|       group A|associate's degree|free/reduced|     none|        47|           57|           44|\n",
      "|  male|       group C|      some college|    standard|     none|        76|           78|           75|\n",
      "|female|       group B|associate's degree|    standard|     none|        71|           83|           78|\n",
      "+------+--------------+------------------+------------+---------+----------+-------------+-------------+\n",
      "only showing top 6 rows\n",
      "\n"
     ]
    }
   ],
   "source": [
    "# show() по умолчанию отображает первые 20 строк\n",
    "Students.show(6)"
   ]
  },
  {
   "cell_type": "code",
   "execution_count": 33,
   "id": "fdcfe849",
   "metadata": {},
   "outputs": [
    {
     "data": {
      "text/plain": [
       "Row(gender='female', race/ethnicity='group B', education=\"bachelor's degree\", lunch='standard', test='none', math score=72, reading score=72, writing score=74)"
      ]
     },
     "execution_count": 33,
     "metadata": {},
     "output_type": "execute_result"
    }
   ],
   "source": [
    "# first() возвращает первую строку данных\n",
    "Students.first()"
   ]
  },
  {
   "cell_type": "code",
   "execution_count": 34,
   "id": "0a19a812",
   "metadata": {},
   "outputs": [
    {
     "data": {
      "text/plain": [
       "[Row(gender='female', race/ethnicity='group B', education=\"bachelor's degree\", lunch='standard', test='none', math score=72, reading score=72, writing score=74),\n",
       " Row(gender='female', race/ethnicity='group C', education='some college', lunch='standard', test='completed', math score=69, reading score=90, writing score=88),\n",
       " Row(gender='female', race/ethnicity='group B', education=\"master's degree\", lunch='standard', test='none', math score=90, reading score=95, writing score=93)]"
      ]
     },
     "execution_count": 34,
     "metadata": {},
     "output_type": "execute_result"
    }
   ],
   "source": [
    "# take(n) возвращает первые n строк\n",
    "Students.take(3)"
   ]
  },
  {
   "cell_type": "code",
   "execution_count": 35,
   "id": "5959e357",
   "metadata": {},
   "outputs": [
    {
     "name": "stdout",
     "output_type": "stream",
     "text": [
      "+-------+------+--------------+------------------+------------+---------+------------------+------------------+-----------------+\n",
      "|summary|gender|race/ethnicity|         education|       lunch|     test|        math score|     reading score|    writing score|\n",
      "+-------+------+--------------+------------------+------------+---------+------------------+------------------+-----------------+\n",
      "|  count|  1000|          1000|              1000|        1000|     1000|              1000|              1000|             1000|\n",
      "|   mean|  null|          null|              null|        null|     null|            66.089|            69.169|           68.054|\n",
      "| stddev|  null|          null|              null|        null|     null|15.163080096009454|14.600191937252223|15.19565701086966|\n",
      "|    min|female|       group A|associate's degree|free/reduced|completed|                 0|                17|               10|\n",
      "|    max|  male|       group E|  some high school|    standard|     none|               100|               100|              100|\n",
      "+-------+------+--------------+------------------+------------+---------+------------------+------------------+-----------------+\n",
      "\n"
     ]
    }
   ],
   "source": [
    "# describe() вычисляет некоторые статистические значения для столбцов с числовым типом данных\n",
    "Students.describe().show()"
   ]
  },
  {
   "cell_type": "code",
   "execution_count": 36,
   "id": "25654c01",
   "metadata": {},
   "outputs": [
    {
     "data": {
      "text/plain": [
       "1000"
      ]
     },
     "execution_count": 36,
     "metadata": {},
     "output_type": "execute_result"
    }
   ],
   "source": [
    "# count() возвращает общее число строк в датасете\n",
    "Students.count() "
   ]
  },
  {
   "cell_type": "code",
   "execution_count": 37,
   "id": "e27bb83e",
   "metadata": {},
   "outputs": [
    {
     "name": "stdout",
     "output_type": "stream",
     "text": [
      "+-------+------------------+------------------+-----------------+\n",
      "|summary|        math score|     reading score|    writing score|\n",
      "+-------+------------------+------------------+-----------------+\n",
      "|  count|              1000|              1000|             1000|\n",
      "|   mean|            66.089|            69.169|           68.054|\n",
      "| stddev|15.163080096009454|14.600191937252223|15.19565701086966|\n",
      "|    min|                 0|                17|               10|\n",
      "|    max|               100|               100|              100|\n",
      "+-------+------------------+------------------+-----------------+\n",
      "\n"
     ]
    }
   ],
   "source": [
    "# describe() вычисляет некоторые статистические значения для столбцов с числовым типом данных\n",
    "Students.describe(['math score','reading score', 'writing score']).show()"
   ]
  },
  {
   "cell_type": "code",
   "execution_count": 38,
   "id": "bd992c34",
   "metadata": {},
   "outputs": [
    {
     "data": {
      "text/plain": [
       "['gender',\n",
       " 'race/ethnicity',\n",
       " 'education',\n",
       " 'lunch',\n",
       " 'test',\n",
       " 'math score',\n",
       " 'reading score',\n",
       " 'writing score']"
      ]
     },
     "execution_count": 38,
     "metadata": {},
     "output_type": "execute_result"
    }
   ],
   "source": [
    "# columns возвращает список, содержащий названия столбцов\n",
    "Students.columns"
   ]
  },
  {
   "cell_type": "markdown",
   "id": "4baa7b8b",
   "metadata": {},
   "source": [
    "## Манипуляции со столбцами\n",
    "\n",
    "1. Добавление столбца: withColumn добавляет новый столбец к существующим. Метод принимает два параметра: имя столбца и данные. \n",
    "2. Обновление столбца: withColumnRenamed переименовывает существующий столбец. Метод принимает два параметра: название существующего столбца и его новое имя.\n",
    "3. Удаление столбца: drop принимает имя столбца и возвращает данные."
   ]
  },
  {
   "cell_type": "code",
   "execution_count": 39,
   "id": "2b7f837e",
   "metadata": {},
   "outputs": [
    {
     "name": "stdout",
     "output_type": "stream",
     "text": [
      "+------+--------------+------------------+------------+---------+----------+-------------+-------------+-----+\n",
      "|gender|race/ethnicity|         education|       lunch|     test|math score|reading score|writing score|score|\n",
      "+------+--------------+------------------+------------+---------+----------+-------------+-------------+-----+\n",
      "|female|       group B| bachelor's degree|    standard|     none|        72|           72|           74|  218|\n",
      "|female|       group C|      some college|    standard|completed|        69|           90|           88|  247|\n",
      "|female|       group B|   master's degree|    standard|     none|        90|           95|           93|  278|\n",
      "|  male|       group A|associate's degree|free/reduced|     none|        47|           57|           44|  148|\n",
      "|  male|       group C|      some college|    standard|     none|        76|           78|           75|  229|\n",
      "+------+--------------+------------------+------------+---------+----------+-------------+-------------+-----+\n",
      "only showing top 5 rows\n",
      "\n"
     ]
    }
   ],
   "source": [
    "Students = Students.withColumn('score', Students['math score']\n",
    "                                + Students['reading score'] \n",
    "                                + Students['writing score'])\n",
    "\n",
    "Students.show(5)"
   ]
  },
  {
   "cell_type": "code",
   "execution_count": 40,
   "id": "1a8bc12e",
   "metadata": {},
   "outputs": [],
   "source": [
    "Students = Students.replace({'none':None}, subset = ['test'])"
   ]
  },
  {
   "cell_type": "code",
   "execution_count": 41,
   "id": "d0f21d66",
   "metadata": {},
   "outputs": [
    {
     "name": "stdout",
     "output_type": "stream",
     "text": [
      "+------+--------------+---------+-----+----+----------+-------------+-------------+-----+\n",
      "|gender|race/ethnicity|education|lunch|test|math score|reading score|writing score|score|\n",
      "+------+--------------+---------+-----+----+----------+-------------+-------------+-----+\n",
      "|     0|             0|        0|    0| 642|         0|            0|            0|    0|\n",
      "+------+--------------+---------+-----+----+----------+-------------+-------------+-----+\n",
      "\n"
     ]
    }
   ],
   "source": [
    "Students.select(*(sum(col(c).isNull().cast(\"int\")).alias(c) for c in Students.columns)).show()"
   ]
  },
  {
   "cell_type": "markdown",
   "id": "ad0edbe8",
   "metadata": {},
   "source": [
    "## Работа с недостающими значениями"
   ]
  },
  {
   "cell_type": "code",
   "execution_count": 42,
   "id": "cefb1681",
   "metadata": {},
   "outputs": [
    {
     "data": {
      "text/plain": [
       "DataFrame[gender: string, race/ethnicity: string, education: string, lunch: string, test: string, math score: int, reading score: int, writing score: int, score: int]"
      ]
     },
     "execution_count": 42,
     "metadata": {},
     "output_type": "execute_result"
    }
   ],
   "source": [
    "# Удаление строк с пропущенными значениями\n",
    "Students.na.drop()\n",
    "\n",
    "# Замена отсутствующих значений средним Students.na.fill(Students.select(f.mean(Students['open'])).collect()[0][0])\n",
    "# Замена отсутствующих значений новыми Students.na.replace(old_value, new_vallue)"
   ]
  },
  {
   "cell_type": "markdown",
   "id": "4b4c724c",
   "metadata": {},
   "source": [
    "## Получение данных"
   ]
  },
  {
   "cell_type": "code",
   "execution_count": 43,
   "id": "5f340638",
   "metadata": {},
   "outputs": [
    {
     "name": "stdout",
     "output_type": "stream",
     "text": [
      "+------------------+-----+\n",
      "|         education|score|\n",
      "+------------------+-----+\n",
      "| bachelor's degree|  218|\n",
      "|      some college|  247|\n",
      "|   master's degree|  278|\n",
      "|associate's degree|  148|\n",
      "|      some college|  229|\n",
      "|associate's degree|  232|\n",
      "|      some college|  275|\n",
      "|      some college|  122|\n",
      "|       high school|  195|\n",
      "|       high school|  148|\n",
      "+------------------+-----+\n",
      "only showing top 10 rows\n",
      "\n"
     ]
    }
   ],
   "source": [
    "# Select используется для выбора одного или нескольких столбцов\n",
    "Students.select(['education', 'score']).show(10)"
   ]
  },
  {
   "cell_type": "code",
   "execution_count": 44,
   "id": "5fa0e092",
   "metadata": {},
   "outputs": [
    {
     "name": "stdout",
     "output_type": "stream",
     "text": [
      "+------+--------------+-----------------+------------+---------+----------+-------------+-------------+-----+\n",
      "|gender|race/ethnicity|        education|       lunch|     test|math score|reading score|writing score|score|\n",
      "+------+--------------+-----------------+------------+---------+----------+-------------+-------------+-----+\n",
      "|female|       group E|bachelor's degree|    standard|completed|        99|          100|          100|  299|\n",
      "|female|       group C|bachelor's degree|    standard|completed|        96|          100|          100|  296|\n",
      "|female|       group E|bachelor's degree|    standard|     null|       100|          100|          100|  300|\n",
      "|  male|       group C|bachelor's degree|    standard|completed|        96|           90|           92|  278|\n",
      "|female|       group E|bachelor's degree|free/reduced|completed|        92|          100|          100|  292|\n",
      "+------+--------------+-----------------+------------+---------+----------+-------------+-------------+-----+\n",
      "only showing top 5 rows\n",
      "\n"
     ]
    }
   ],
   "source": [
    "# Filter фильтрует данные на основе заданного условия. Операторы &, |,  ~\n",
    "Students.filter( (col('math score') >= 90) & (col('education') == \"bachelor's degree\")).show(5)"
   ]
  },
  {
   "cell_type": "code",
   "execution_count": 45,
   "id": "cc2a4378",
   "metadata": {},
   "outputs": [
    {
     "name": "stdout",
     "output_type": "stream",
     "text": [
      "+------+--------------+------------------+------------+---------+----------+-------------+-------------+-----+\n",
      "|gender|race/ethnicity|         education|       lunch|     test|math score|reading score|writing score|score|\n",
      "+------+--------------+------------------+------------+---------+----------+-------------+-------------+-----+\n",
      "|female|       group B|   master's degree|    standard|     null|        90|           95|           93|  278|\n",
      "|female|       group B|      some college|    standard|completed|        88|           95|           92|  275|\n",
      "|  male|       group C|       high school|    standard|     null|        88|           89|           86|  263|\n",
      "|  male|       group E|      some college|    standard|     null|        97|           87|           82|  266|\n",
      "|female|       group D|associate's degree|free/reduced|completed|        75|           90|           88|  253|\n",
      "|female|       group E|associate's degree|    standard|completed|        82|           85|           86|  253|\n",
      "|female|       group B|      some college|    standard|     null|        79|           86|           92|  257|\n",
      "|female|       group D|associate's degree|    standard|     null|        85|           91|           89|  265|\n",
      "|  male|       group C|      some college|    standard|completed|        98|           86|           90|  274|\n",
      "|female|       group D|   master's degree|    standard|     null|        87|          100|          100|  287|\n",
      "|female|       group D|associate's degree|free/reduced|completed|        77|           89|           98|  264|\n",
      "|female|       group E| bachelor's degree|    standard|completed|        99|          100|          100|  299|\n",
      "|female|       group C| bachelor's degree|    standard|completed|        79|           92|           89|  260|\n",
      "|  male|       group B|associate's degree|    standard|completed|        91|           89|           92|  272|\n",
      "|female|       group C|      some college|    standard|completed|        88|           93|           93|  274|\n",
      "|female|       group B|       high school|    standard|     null|        87|           95|           86|  268|\n",
      "|  male|       group D|   master's degree|    standard|     null|        89|           84|           82|  255|\n",
      "|  male|       group E|associate's degree|free/reduced|completed|       100|          100|           93|  293|\n",
      "|female|       group E|   master's degree|    standard|     null|        81|           92|           91|  264|\n",
      "|female|       group C| bachelor's degree|    standard|completed|        96|          100|          100|  296|\n",
      "+------+--------------+------------------+------------+---------+----------+-------------+-------------+-----+\n",
      "only showing top 20 rows\n",
      "\n"
     ]
    }
   ],
   "source": [
    "# Between возвращает True, если проверяемое значение принадлежит указанному отрезку, иначе — False\n",
    "Students.filter(Students.score.between(250.0, 300.0)).show()"
   ]
  },
  {
   "cell_type": "code",
   "execution_count": 46,
   "id": "4ad2ab5a",
   "metadata": {},
   "outputs": [
    {
     "name": "stdout",
     "output_type": "stream",
     "text": [
      "+------+------------------+--------------------------------------------+\n",
      "|gender|         education|CASE WHEN (score >= 210.0) THEN 1 ELSE 0 END|\n",
      "+------+------------------+--------------------------------------------+\n",
      "|female| bachelor's degree|                                           1|\n",
      "|female|      some college|                                           1|\n",
      "|female|   master's degree|                                           1|\n",
      "|  male|associate's degree|                                           0|\n",
      "|  male|      some college|                                           1|\n",
      "|female|associate's degree|                                           1|\n",
      "|female|      some college|                                           1|\n",
      "|  male|      some college|                                           0|\n",
      "+------+------------------+--------------------------------------------+\n",
      "only showing top 8 rows\n",
      "\n"
     ]
    }
   ],
   "source": [
    "# When возвращает 0 или 1 в зависимости от заданного условия\n",
    "Students.select('gender', 'education', f.when(Students.score >= 210.0, 1).otherwise(0)).show(8)"
   ]
  },
  {
   "cell_type": "code",
   "execution_count": 47,
   "id": "4abb28cf",
   "metadata": {},
   "outputs": [
    {
     "name": "stdout",
     "output_type": "stream",
     "text": [
      "+------------------+--------------------------------------+\n",
      "|         education|Колонка education начинается с m или a|\n",
      "+------------------+--------------------------------------+\n",
      "|   master's degree|                                  true|\n",
      "|associate's degree|                                  true|\n",
      "|  some high school|                                 false|\n",
      "|      some college|                                 false|\n",
      "| bachelor's degree|                                 false|\n",
      "|       high school|                                 false|\n",
      "+------------------+--------------------------------------+\n",
      "\n"
     ]
    }
   ],
   "source": [
    "# Like используется для поиска заданного шаблона в столбце\n",
    "Students.select('education', Students.education.rlike('^[m,a]')\n",
    "                .alias('Колонка education начинается с m или a')).distinct().show()"
   ]
  },
  {
   "cell_type": "code",
   "execution_count": 48,
   "id": "54a368e3",
   "metadata": {},
   "outputs": [
    {
     "name": "stdout",
     "output_type": "stream",
     "text": [
      "+------------------+------------------+\n",
      "|         education|        avg(score)|\n",
      "+------------------+------------------+\n",
      "|  some high school| 195.3240223463687|\n",
      "|associate's degree| 208.7072072072072|\n",
      "|       high school| 189.2908163265306|\n",
      "| bachelor's degree|215.77118644067798|\n",
      "|   master's degree|220.79661016949152|\n",
      "|      some college|205.42920353982302|\n",
      "+------------------+------------------+\n",
      "\n"
     ]
    }
   ],
   "source": [
    "# GourpBy группирует данные по выбранному столбцу и выполняет различные операции\n",
    "Students.select(['education', 'score'])\\\n",
    "    .groupBy('education')\\\n",
    "    .mean()\\\n",
    "    .show()"
   ]
  },
  {
   "cell_type": "markdown",
   "id": "b3ff7ccb",
   "metadata": {},
   "source": [
    "## Агрегирование\n",
    "\n",
    "PySpark предоставляет встроенные стандартные функции агрегации, определенные в API DataFrame, они могут пригодится, когда нужно выполнить агрегирование значений столбцов."
   ]
  },
  {
   "cell_type": "code",
   "execution_count": 49,
   "id": "3385b464",
   "metadata": {},
   "outputs": [
    {
     "name": "stdout",
     "output_type": "stream",
     "text": [
      "+------------------+--------+---------+-----------------+------------------+-----------------+\n",
      "|education         |С оценки|По оценку|Минимум по чтению|Максимум по чтению|Среднее по чтению|\n",
      "+------------------+--------+---------+-----------------+------------------+-----------------+\n",
      "|some high school  |250     |274      |84               |97                |89.0             |\n",
      "|associate's degree|251     |280      |79               |95                |88.84848484848484|\n",
      "|high school       |250     |268      |87               |95                |90.16666666666667|\n",
      "|bachelor's degree |251     |279      |81               |96                |89.33333333333333|\n",
      "|master's degree   |250     |280      |81               |97                |88.46666666666667|\n",
      "|some college      |251     |278      |81               |97                |87.85714285714286|\n",
      "+------------------+--------+---------+-----------------+------------------+-----------------+\n",
      "\n"
     ]
    }
   ],
   "source": [
    "Students.filter((col('score') >='250') & (col('score') <= '280'))\\\n",
    "    .groupBy('education') \\\n",
    "    .agg(f.min(\"score\").alias(\"С оценки\"), \n",
    "         f.max(\"score\").alias(\"По оценку\"), \n",
    "         \n",
    "         f.min(\"reading score\").alias(\"Минимум по чтению\"),\n",
    "         f.max(\"reading score\").alias(\"Максимум по чтению\"), \n",
    "         f.avg(\"reading score\").alias(\"Среднее по чтению\")\n",
    "         \n",
    "      ).show(truncate=False)"
   ]
  },
  {
   "cell_type": "markdown",
   "id": "88cde4a5",
   "metadata": {},
   "source": [
    "## Визуализация данных"
   ]
  },
  {
   "cell_type": "code",
   "execution_count": 50,
   "id": "ce22b9e0",
   "metadata": {},
   "outputs": [
    {
     "data": {
      "image/png": "[encoded data removed]",
      "text/plain": [
       "<Figure size 432x288 with 1 Axes>"
      ]
     },
     "metadata": {
      "needs_background": "light"
     },
     "output_type": "display_data"
    }
   ],
   "source": [
    "Students_education = Students.select(['gender', 'education', 'math score', 'reading score', 'writing score','score'])\\\n",
    "                     .groupBy('education')\\\n",
    "                     .mean()\\\n",
    "                     .toPandas()\n",
    "\n",
    "Students_education.plot(kind = 'bar', x = 'education', y = Students_education.columns.tolist()[1:],\n",
    "                        ylabel = 'Score', xlabel = 'Education')\n",
    "plt.show()"
   ]
  },
  {
   "cell_type": "markdown",
   "id": "8b3653b9",
   "metadata": {},
   "source": [
    "## Запись/сохранение данных в файл\n",
    "\n",
    "Метод write.save() используется для сохранения данных в различных форматах.\n",
    "</br>\n",
    "Метод write.select() используется для сохранения выбранных колонок."
   ]
  },
  {
   "cell_type": "code",
   "execution_count": 51,
   "id": "5d36111b",
   "metadata": {},
   "outputs": [],
   "source": [
    "Students.write.csv('Students.csv')\n",
    "Students.select(['gender', 'education', 'math score', 'reading score', 'writing score','score'])\\\n",
    "               .write.csv('Students_select.csv')\n",
    "\n",
    "# JSON data.write.save('dataset.json', format='json')\n",
    "# JSON data.select(['data', 'open', 'close', 'adjusted']).write.save('dataset.json', format='json')"
   ]
  }
 ],
 "metadata": {
  "kernelspec": {
   "display_name": "Python 3 (ipykernel)",
   "language": "python",
   "name": "python3"
  },
  "language_info": {
   "codemirror_mode": {
    "name": "ipython",
    "version": 3
   },
   "file_extension": ".py",
   "mimetype": "text/x-python",
   "name": "python",
   "nbconvert_exporter": "python",
   "pygments_lexer": "ipython3",
   "version": "3.9.7"
  }
 },
 "nbformat": 4,
 "nbformat_minor": 5
}
